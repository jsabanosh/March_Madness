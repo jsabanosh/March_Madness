{
 "cells": [
  {
   "cell_type": "code",
   "execution_count": 100,
   "metadata": {
    "scrolled": true
   },
   "outputs": [
    {
     "name": "stdout",
     "output_type": "stream",
     "text": [
      "The cython extension is already loaded. To reload it, use:\n",
      "  %reload_ext cython\n"
     ]
    }
   ],
   "source": [
    "import numpy as np\n",
    "import pandas as pd\n",
    "import itertools\n",
    "import time\n",
    "import matplotlib.pyplot as plt\n",
    "from sklearn import datasets, linear_model\n",
    "import statsmodels.formula.api as sm\n",
    "import winsound\n",
    "import timeit\n",
    "import xgboost as xgb\n",
    "from xgboost.sklearn import XGBClassifier\n",
    "from sklearn import cross_validation, metrics\n",
    "from sklearn.grid_search import GridSearchCV\n",
    "import datetime\n",
    "%load_ext cython\n",
    "\n",
    "#Variables\n",
    "defK = 35\n",
    "defELO = 1200\n",
    "\n",
    "detsX = pd.read_csv(\"../input/RegularSeasonDetailedResults.csv\")\n",
    "compX = pd.read_csv(\"../input/RegularSeasonCompactResults.csv\")\n",
    "tournX = pd.read_csv(\"../input/TourneyDetailedResults.csv\")\n",
    "compY = pd.read_csv(\"../input/TourneyCompactResults.csv\")\n",
    "seeds = pd.read_csv(\"../input/TourneySeeds.csv\")\n",
    "sample = pd.read_csv(\"../input/sample_submission.csv\")\n",
    "\n",
    "tournX['isTourn']=tournX.apply(lambda row: 1, axis = 1)\n",
    "detsX['isTourn']=detsX.apply(lambda row: 0, axis = 1)\n",
    "detsX = detsX.append(tournX)\n",
    "\n",
    "#Set up ELO basis\n",
    "detsX['WELO'] = detsX.apply(lambda row: defELO, axis=1)\n",
    "detsX['LELO'] = detsX.apply(lambda row: defELO, axis=1)\n",
    "\n",
    "#Engineer Features\n",
    "detsX['Ptdiff'] = detsX.apply(lambda row: row['Wscore']-row['Lscore'], axis=1)"
   ]
  },
  {
   "cell_type": "code",
   "execution_count": 197,
   "metadata": {
    "collapsed": true
   },
   "outputs": [],
   "source": [
    "from mpl_toolkits.mplot3d import Axes3D"
   ]
  },
  {
   "cell_type": "code",
   "execution_count": 83,
   "metadata": {},
   "outputs": [],
   "source": [
    "#Create ELO Scores\n",
    "##Create initial ELOs for all teams (1200)\n",
    "#ELOs = pd.concat(compY[['Wteam','Lteam']][compY['Season'] == 2016],compY[['Lteam','Wteam']][compY['Season'] == 2016])\n",
    "ELOs = compX[['Wteam','Lteam']].append(compX[['Lteam','Wteam']][compX['Season'] == 2016])\n",
    "ELOs['ELO'] = ELOs.apply(lambda row: defELO, axis=1)\n",
    "ELOs = ELOs.drop('Lteam', 1)\n",
    "ELOs['team'] = ELOs['Wteam']\n",
    "ELOs = ELOs.drop('Wteam', 1)\n",
    "ELOs = ELOs[['team','ELO']]\n",
    "ELOs=ELOs.groupby('team').mean()\n",
    "ELOs['K']=ELOs.apply(lambda row: defK, axis = 1)\n",
    "ELOs['Sgame']=ELOs.apply(lambda row: 0, axis = 1)\n",
    "##Account for team churn year-to-year"
   ]
  },
  {
   "cell_type": "code",
   "execution_count": 113,
   "metadata": {},
   "outputs": [],
   "source": [
    "%%cython\n",
    "cpdef ELOCalc(double WR_old, double LR_old, int ptDiffPct, double WK=60, double LK=60, str court='N', int width=400):\n",
    "    cdef double K\n",
    "    cdef double probW\n",
    "    cdef double probELO\n",
    "    \n",
    "    #Account for home court advantage\n",
    "    if court == 'H':\n",
    "        probCourt = 0.655\n",
    "    elif court == 'A':\n",
    "        probCourt = 1-0.655\n",
    "    else:\n",
    "        probCourt = 0.5\n",
    "    #Calc prob winner wins\n",
    "    #probELO = WR_old/(WR_old+LR_old)\n",
    "    probELO = 1/(1+10**((LR_old-WR_old)/width))\n",
    "    #Formula from http://www.mathpages.com/home/kmath267.htm\n",
    "    probW = (probCourt*probELO)/(probCourt*probELO+(1-probCourt)*(1-probELO))\n",
    "    #Set K based on W/L K and margin of victory\n",
    "    K = (WK+LK)/2\n",
    "    K=7/8*K+1/8*K*ptDiffPct**(1/8)\n",
    "    WR_new = WR_old + K*(1-probW)\n",
    "    LR_new = LR_old + K*(0-(1-probW))\n",
    "    #ELOs.loc[Wteam, 'ELO'] = WR_new\n",
    "    #ELOs.loc[Lteam, 'ELO'] = LR_new\n",
    "    return [WR_new, LR_new]"
   ]
  },
  {
   "cell_type": "code",
   "execution_count": 114,
   "metadata": {
    "collapsed": true
   },
   "outputs": [],
   "source": [
    "#Probability that the team that won was going to win entering the game\n",
    "def winProb(x):\n",
    "    court = x['Wloc']\n",
    "    ##Court Probablity added based on investigations below\n",
    "    if court == 'H':\n",
    "        probCourt = 0.655\n",
    "    elif court == 'A':\n",
    "        probCourt = 1-0.655\n",
    "    else:\n",
    "        probCourt = 0.5\n",
    "    #Calc prob winner wins\n",
    "    #probELO = x['WELO']/(x['WELO']+x['LELO'])\n",
    "    probELO = 1/(1+10**((x['LELO']-x['WELO'])/400))\n",
    "    probW = (probCourt*probELO)/(probCourt*probELO+(1-probCourt)*(1-probELO))\n",
    "    return probW"
   ]
  },
  {
   "cell_type": "code",
   "execution_count": 115,
   "metadata": {
    "collapsed": true
   },
   "outputs": [],
   "source": [
    "def locReverse(loc):\n",
    "    if loc == 'A':\n",
    "        return 'H'\n",
    "    elif loc == 'H':\n",
    "        return 'A'\n",
    "    else:\n",
    "        return 'N'"
   ]
  },
  {
   "cell_type": "code",
   "execution_count": 116,
   "metadata": {},
   "outputs": [
    {
     "name": "stdout",
     "output_type": "stream",
     "text": [
      "1\n",
      "6\n",
      "11\n",
      "16\n",
      "21\n",
      "26\n",
      "31\n",
      "36\n",
      "41\n",
      "46\n",
      "51\n",
      "56\n",
      "61\n",
      "66\n",
      "71\n",
      "76\n",
      "81\n",
      "86\n",
      "91\n",
      "96\n"
     ]
    }
   ],
   "source": [
    "for KValue in range(1,100,5):\n",
    "    print(KValue)"
   ]
  },
  {
   "cell_type": "code",
   "execution_count": 117,
   "metadata": {
    "collapsed": true
   },
   "outputs": [],
   "source": [
    "kLoop = pd.DataFrame(columns={'Score1','Score2','K'})"
   ]
  },
  {
   "cell_type": "code",
   "execution_count": 127,
   "metadata": {
    "scrolled": true
   },
   "outputs": [
    {
     "name": "stdout",
     "output_type": "stream",
     "text": [
      "5 Minute(s), 30 Second(s).\n",
      "1\n",
      "0.650515719852\n",
      "0.671144064507\n",
      "11 Minute(s), 39 Second(s).\n",
      "6\n",
      "0.585696648373\n",
      "0.623793455594\n",
      "17 Minute(s), 40 Second(s).\n",
      "11\n",
      "0.565884264068\n",
      "0.603697164297\n",
      "23 Minute(s), 44 Second(s).\n",
      "16\n",
      "0.556575978662\n",
      "0.591881912993\n",
      "29 Minute(s), 47 Second(s).\n",
      "21\n",
      "0.552209164494\n",
      "0.584171369283\n",
      "35 Minute(s), 53 Second(s).\n",
      "26\n",
      "0.55052497012\n",
      "0.578902280545\n",
      "42 Minute(s), 17 Second(s).\n",
      "31\n",
      "0.550381522846\n",
      "0.575243706155\n",
      "48 Minute(s), 19 Second(s).\n",
      "36\n",
      "0.551158091714\n",
      "0.572722885498\n",
      "54 Minute(s), 20 Second(s).\n",
      "41\n",
      "0.552501664985\n",
      "0.571046234622\n",
      "60 Minute(s), 22 Second(s).\n",
      "46\n",
      "0.554203716446\n",
      "0.570019538363\n",
      "66 Minute(s), 25 Second(s).\n",
      "51\n",
      "0.556136740238\n",
      "0.569508057081\n",
      "72 Minute(s), 27 Second(s).\n",
      "56\n",
      "0.558220232758\n",
      "0.56941479759\n",
      "78 Minute(s), 29 Second(s).\n",
      "61\n",
      "0.560401824861\n",
      "0.569667854991\n",
      "84 Minute(s), 42 Second(s).\n",
      "66\n",
      "0.562646492312\n",
      "0.570212630621\n",
      "90 Minute(s), 43 Second(s).\n",
      "71\n",
      "0.564930213856\n",
      "0.571006833125\n",
      "96 Minute(s), 45 Second(s).\n",
      "76\n",
      "0.567236150463\n",
      "0.572017148754\n",
      "102 Minute(s), 45 Second(s).\n",
      "81\n",
      "0.56955229176\n",
      "0.573216955187\n",
      "108 Minute(s), 51 Second(s).\n",
      "86\n",
      "0.571869976278\n",
      "0.574584710872\n",
      "114 Minute(s), 53 Second(s).\n",
      "91\n",
      "0.574182942282\n",
      "0.576102794841\n",
      "121 Minute(s), 1 Second(s).\n",
      "96\n",
      "0.576486705864\n",
      "0.577756654681\n",
      "127 Minute(s), 10 Second(s).\n",
      "101\n",
      "0.578778143263\n",
      "0.579534170008\n",
      "133 Minute(s), 9 Second(s).\n",
      "106\n",
      "0.581055201847\n",
      "0.581425169615\n",
      "139 Minute(s), 6 Second(s).\n",
      "111\n",
      "0.583316692827\n",
      "0.583421060114\n",
      "145 Minute(s), 4 Second(s).\n",
      "116\n",
      "0.585562136451\n",
      "0.585514536723\n",
      "151 Minute(s), 2 Second(s).\n",
      "121\n",
      "0.587791641427\n",
      "0.58769935547\n",
      "157 Minute(s), 3 Second(s).\n",
      "126\n",
      "0.590005807269\n",
      "0.589970151878\n",
      "163 Minute(s), 2 Second(s).\n",
      "131\n",
      "0.592205642577\n",
      "0.592322295315\n",
      "169 Minute(s), 0 Second(s).\n",
      "136\n",
      "0.594392494986\n",
      "0.594751770966\n",
      "175 Minute(s), 1 Second(s).\n",
      "141\n",
      "0.596567990135\n",
      "0.597255083486\n",
      "180 Minute(s), 57 Second(s).\n",
      "146\n",
      "0.598733978027\n",
      "0.599829177791\n",
      "186 Minute(s), 55 Second(s).\n",
      "151\n",
      "0.600892485701\n",
      "0.602471373564\n"
     ]
    }
   ],
   "source": [
    "dd={}\n",
    "\n",
    "##Simulate ELO\n",
    "##Setup data to ELO\n",
    "#Time it\n",
    "start = time.time()\n",
    "\n",
    "#detsX = detsX.sort_index()\n",
    "for KValue in range(1,152,5):\n",
    "    ELOs['ELO'] = ELOs.apply(lambda row: defELO, axis=1)\n",
    "    for year in range(2003,2017):\n",
    "        games = detsX[detsX['Season']==year]\n",
    "        dayArray = games['Daynum'].unique()\n",
    "        #print(year)\n",
    "        for day in dayArray:\n",
    "            for a in games[['Wteam','Lteam','Wloc', 'Wscore', 'Lscore']][(games['Daynum'] == day)].as_matrix():\n",
    "                #Set Historical ELO\n",
    "                winPct = (a[3]-a[4])/a[3]\n",
    "                firstELOs = [ELOs.loc[a[0]].ELO, ELOs.loc[a[1]].ELO]\n",
    "                detsX.loc[(detsX.Season == year) & (detsX.Daynum == day) & (detsX.Wteam == a[0]),['WELO','LELO']] = (firstELOs)\n",
    "                #detsX.loc[(year,day,a[0]),['WELO','LELO']] = (firstELOs)\n",
    "                #Update Ongoing ELO\n",
    "                ELOUpdate = ELOCalc(firstELOs[0], firstELOs[1], winPct, court=a[2], WK=KValue, LK=KValue)\n",
    "                ELOs.loc[a[0], 'ELO'] = ELOUpdate[0]\n",
    "                ELOs.loc[a[1], 'ELO'] = ELOUpdate[1]\n",
    "\n",
    "\n",
    "    duration = time.time() - start\n",
    "    winsound.Beep(2500,500)\n",
    "\n",
    "\n",
    "    print(str(int(duration//60)) + \" Minute(s), \" + str(int(duration%60)) + \" Second(s).\")\n",
    "\n",
    "    #Add ELODiff Metric\n",
    "    detsX['ELODiff'] = detsX.apply(lambda row: row['WELO'] - row['LELO'] , axis=1)\n",
    "\n",
    "    #creating a dataframe of relevant years\n",
    "    useGames = detsX[(detsX['Season']>=2000)]\n",
    "\n",
    "    ##Create ELO-based dataframe. This will be useful in creating an ML model with consisten team positions\n",
    "    (useGames['Hteam'],useGames['Hscore'],useGames['Hloc'],useGames['Hfgm'],useGames['Hfga'],\n",
    "     useGames['Hfgm3'],useGames['Hfga3'],useGames['Hfta'],useGames['Hor'],useGames['Hdr'],\n",
    "     useGames['Hast'],useGames['Hto'],useGames['Hstl'],useGames['Hblk'],useGames['Hpf'],\n",
    "     useGames['Loteam'],useGames['Loscore'],useGames['Loloc'],useGames['Lofgm'],useGames['Lofga'],\n",
    "     useGames['Lofgm3'],useGames['Lofga3'],useGames['Lofta'],useGames['Loor'],useGames['Lodr'],\n",
    "     useGames['Loast'],useGames['Loto'],useGames['Lostl'],useGames['Loblk'],useGames['Lopf'],\n",
    "     useGames['HELO'],useGames['LoELO'], useGames['PtHDiff'], useGames['Hwon']\n",
    "    ) = zip(*useGames.apply(lambda row: \n",
    "                           (row['Wteam'],row['Wscore'],row['Wloc'],row['Wfgm'],row['Wfga'],\n",
    "                            row['Wfgm3'],row['Wfga3'],row['Wfta'],row['Wor'],row['Wdr'],\n",
    "                            row['Wast'],row['Wto'],row['Wstl'],row['Wblk'],row['Wpf'],\n",
    "                            row['Lteam'],row['Lscore'],locReverse(row['Wloc']),row['Lfgm'],row['Lfga'],\n",
    "                            row['Lfgm3'],row['Lfga3'],row['Lfta'],row['Lor'],row['Ldr'],\n",
    "                            row['Last'],row['Lto'],row['Lstl'],row['Lblk'],row['Lpf'],\n",
    "                            row['WELO'], row['LELO'], row['Ptdiff'], 1)\n",
    "                           if row['WELO'] > row['LELO'] else \n",
    "                           (row['Lteam'],row['Lscore'],locReverse(row['Wloc']),row['Lfgm'],row['Lfga'],\n",
    "                            row['Lfgm3'],row['Lfga3'],row['Lfta'],row['Lor'],row['Ldr'],\n",
    "                            row['Last'],row['Lto'],row['Lstl'],row['Lblk'],row['Lpf'],\n",
    "                            row['Wteam'],row['Wscore'],row['Wloc'],row['Wfgm'],row['Wfga'],\n",
    "                            row['Wfgm3'],row['Wfga3'],row['Wfta'],row['Wor'],row['Wdr'],\n",
    "                            row['Wast'],row['Wto'],row['Wstl'],row['Wblk'],row['Wpf'],\n",
    "                            row['LELO'],row['WELO'], -row['Ptdiff'], 0),\n",
    "                           axis=1))\n",
    "\n",
    "    useGames.reset_index(inplace=True)\n",
    "\n",
    "    #Generate expected win % on all past games\n",
    "    #useGames.loc[:,'Hprob'] = useGames.apply(lambda row: row['HELO']/(row['HELO']+row['LoELO']),axis=1)\n",
    "    #useGames.loc[:,'Hprob'] = useGames.apply(winProb,axis=1)\n",
    "    useGames.loc[:,'Hprob'] = useGames.apply(lambda row:\n",
    "                                             1/(1+10**((row['LoELO']-row['HELO'])/400))\n",
    "                                             ,axis=1)\n",
    "    \n",
    "    testLocal = useGames[(useGames['isTourn']==1)& (useGames['Season']>=2013)]\n",
    "    Score1 = metrics.log_loss(testLocal['Hwon'], testLocal['Hprob'])\n",
    "    Score2 = metrics.log_loss(useGames['Hwon'], useGames['Hprob'])\n",
    "    kLoop=kLoop.append(pd.DataFrame(data={'Score1': [Score1],'Score2': Score2,'K': KValue}))\n",
    "    print(KValue)\n",
    "    print(Score1)\n",
    "    print(Score2)\n",
    "    dd[KValue]=useGames"
   ]
  },
  {
   "cell_type": "code",
   "execution_count": 128,
   "metadata": {
    "collapsed": true
   },
   "outputs": [],
   "source": [
    "kLoop.to_csv('../output/KLOOP3.csv')"
   ]
  },
  {
   "cell_type": "code",
   "execution_count": 135,
   "metadata": {},
   "outputs": [
    {
     "data": {
      "image/png": "[encoded data removed]",
      "text/plain": [
       "<matplotlib.figure.Figure at 0xfe50bad30>"
      ]
     },
     "metadata": {},
     "output_type": "display_data"
    }
   ],
   "source": [
    "plt.plot(kLoop['K'],kLoop[['Score1','Score2']])\n",
    "plt.show()"
   ]
  },
  {
   "cell_type": "code",
   "execution_count": 172,
   "metadata": {},
   "outputs": [
    {
     "data": {
      "text/html": [
       "<div>\n",
       "<table border=\"1\" class=\"dataframe\">\n",
       "  <thead>\n",
       "    <tr style=\"text-align: right;\">\n",
       "      <th></th>\n",
       "      <th>K</th>\n",
       "      <th>Score1</th>\n",
       "      <th>Score2</th>\n",
       "    </tr>\n",
       "  </thead>\n",
       "  <tbody>\n",
       "    <tr>\n",
       "      <th>0</th>\n",
       "      <td>56.0</td>\n",
       "      <td>0.55822</td>\n",
       "      <td>0.569415</td>\n",
       "    </tr>\n",
       "  </tbody>\n",
       "</table>\n",
       "</div>"
      ],
      "text/plain": [
       "      K   Score1    Score2\n",
       "0  56.0  0.55822  0.569415"
      ]
     },
     "execution_count": 172,
     "metadata": {},
     "output_type": "execute_result"
    }
   ],
   "source": [
    "kLoop[kLoop['Score2']==min(kLoop['Score2'])]"
   ]
  },
  {
   "cell_type": "code",
   "execution_count": 182,
   "metadata": {
    "collapsed": true
   },
   "outputs": [],
   "source": [
    "useGames['Hwon']=useGames.apply(lambda row: int(row['Hwon']),axis=1)"
   ]
  },
  {
   "cell_type": "code",
   "execution_count": 95,
   "metadata": {},
   "outputs": [],
   "source": [
    "kLoop.to_csv('../output/KLOOP3.csv')"
   ]
  },
  {
   "cell_type": "code",
   "execution_count": 145,
   "metadata": {
    "collapsed": true
   },
   "outputs": [],
   "source": [
    "dfPanel = pd.Panel(dd)"
   ]
  },
  {
   "cell_type": "code",
   "execution_count": 155,
   "metadata": {
    "scrolled": true
   },
   "outputs": [],
   "source": [
    "widthLoop = pd.DataFrame(columns={'Score1','Score2','Width'})"
   ]
  },
  {
   "cell_type": "code",
   "execution_count": null,
   "metadata": {
    "collapsed": true
   },
   "outputs": [],
   "source": [
    "dd[56]"
   ]
  },
  {
   "cell_type": "code",
   "execution_count": 149,
   "metadata": {
    "scrolled": false
   },
   "outputs": [],
   "source": [
    "dfPanel.to_pickle('../input/kLoopPanel1')"
   ]
  },
  {
   "cell_type": "code",
   "execution_count": null,
   "metadata": {
    "collapsed": true
   },
   "outputs": [],
   "source": [
    "widthLoop = pd.DataFrame(columns={'Score1','Score2','Width','K'})"
   ]
  },
  {
   "cell_type": "code",
   "execution_count": 222,
   "metadata": {
    "scrolled": true
   },
   "outputs": [
    {
     "name": "stdout",
     "output_type": "stream",
     "text": [
      "1\n",
      "66\n",
      "131\n",
      "6\n",
      "71\n",
      "136\n",
      "11\n",
      "76\n",
      "141\n",
      "16\n",
      "81\n",
      "146\n",
      "21\n",
      "86\n",
      "151\n",
      "26\n",
      "91\n",
      "31\n",
      "96\n",
      "36\n",
      "101\n",
      "41\n",
      "106\n",
      "46\n",
      "111\n",
      "51\n",
      "116\n",
      "56\n",
      "121\n",
      "61\n",
      "126\n"
     ]
    }
   ],
   "source": [
    "for currK in dd:\n",
    "    for width in range (400,601,20):\n",
    "        useGames = dfPanel[currK]\n",
    "        useGames['HWprob'] = useGames.apply(lambda row:\n",
    "                                                  1/(1+10**((row['LoELO']-row['HELO'])/width))\n",
    "                                                  ,axis=1)\n",
    "        useGames['Hwon']=useGames.apply(lambda row: int(row['Hwon']),axis=1)\n",
    "        testLocal = useGames[(useGames['isTourn']==1)& (useGames['Season']>=2013)]\n",
    "        Score1 = metrics.log_loss(testLocal['Hwon'], testLocal['HWprob'])\n",
    "        Score2 = metrics.log_loss(useGames['Hwon'], useGames['HWprob'])\n",
    "        widthLoop=widthLoop.append(pd.DataFrame(data={'Score1': [Score1],'Score2': Score2,'Width': width,'K': currK}))\n",
    "    print(currK)"
   ]
  },
  {
   "cell_type": "code",
   "execution_count": 194,
   "metadata": {},
   "outputs": [],
   "source": [
    "widthLoop=widthLoop.sort_values(['K','Width'])"
   ]
  },
  {
   "cell_type": "code",
   "execution_count": 223,
   "metadata": {
    "scrolled": false
   },
   "outputs": [
    {
     "data": {
      "image/png": "[encoded data removed]",
      "text/plain": [
       "<matplotlib.figure.Figure at 0xfcbb9d128>"
      ]
     },
     "metadata": {},
     "output_type": "display_data"
    }
   ],
   "source": [
    "fig = plt.figure()\n",
    "ax = fig.gca(projection='3d')\n",
    "ax.plot_trisurf(widthLoop['K'],widthLoop['Width'],widthLoop['Score1'])\n",
    "plt.show()"
   ]
  },
  {
   "cell_type": "code",
   "execution_count": 224,
   "metadata": {
    "scrolled": false
   },
   "outputs": [
    {
     "data": {
      "text/html": [
       "<div>\n",
       "<table border=\"1\" class=\"dataframe\">\n",
       "  <thead>\n",
       "    <tr style=\"text-align: right;\">\n",
       "      <th></th>\n",
       "      <th>K</th>\n",
       "      <th>Score1</th>\n",
       "      <th>Score2</th>\n",
       "      <th>Width</th>\n",
       "    </tr>\n",
       "  </thead>\n",
       "  <tbody>\n",
       "    <tr>\n",
       "      <th>0</th>\n",
       "      <td>56.0</td>\n",
       "      <td>0.55939</td>\n",
       "      <td>0.566781</td>\n",
       "      <td>480.0</td>\n",
       "    </tr>\n",
       "  </tbody>\n",
       "</table>\n",
       "</div>"
      ],
      "text/plain": [
       "      K   Score1    Score2  Width\n",
       "0  56.0  0.55939  0.566781  480.0"
      ]
     },
     "execution_count": 224,
     "metadata": {},
     "output_type": "execute_result"
    }
   ],
   "source": [
    "widthLoop[(widthLoop['Score2']==min(widthLoop[widthLoop['K']==56]['Score2']))]"
   ]
  },
  {
   "cell_type": "code",
   "execution_count": 225,
   "metadata": {},
   "outputs": [
    {
     "data": {
      "text/html": [
       "<div>\n",
       "<table border=\"1\" class=\"dataframe\">\n",
       "  <thead>\n",
       "    <tr style=\"text-align: right;\">\n",
       "      <th></th>\n",
       "      <th>K</th>\n",
       "      <th>Score1</th>\n",
       "      <th>Score2</th>\n",
       "      <th>Width</th>\n",
       "    </tr>\n",
       "  </thead>\n",
       "  <tbody>\n",
       "    <tr>\n",
       "      <th>0</th>\n",
       "      <td>76.0</td>\n",
       "      <td>0.566984</td>\n",
       "      <td>0.565283</td>\n",
       "      <td>520.0</td>\n",
       "    </tr>\n",
       "  </tbody>\n",
       "</table>\n",
       "</div>"
      ],
      "text/plain": [
       "      K    Score1    Score2  Width\n",
       "0  76.0  0.566984  0.565283  520.0"
      ]
     },
     "execution_count": 225,
     "metadata": {},
     "output_type": "execute_result"
    }
   ],
   "source": [
    "widthLoop[(widthLoop['Score2']==min(widthLoop['Score2']))]"
   ]
  }
 ],
 "metadata": {
  "kernelspec": {
   "display_name": "Python 3",
   "language": "python",
   "name": "python3"
  },
  "language_info": {
   "codemirror_mode": {
    "name": "ipython",
    "version": 3
   },
   "file_extension": ".py",
   "mimetype": "text/x-python",
   "name": "python",
   "nbconvert_exporter": "python",
   "pygments_lexer": "ipython3",
   "version": "3.6.8"
  }
 },
 "nbformat": 4,
 "nbformat_minor": 2
}
